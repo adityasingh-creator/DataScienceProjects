{
 "cells": [
  {
   "cell_type": "code",
   "execution_count": 1,
   "id": "964291fd",
   "metadata": {},
   "outputs": [
    {
     "name": "stdout",
     "output_type": "stream",
     "text": [
      "       Month Expense Category  Amount Region   Sales Type Aging Bucket\n",
      "0   Jan-2024         Research   27744  South  138060   AP    0-30 days\n",
      "1   Feb-2024        Marketing   35585   East  111593   AP   31-60 days\n",
      "2   Mar-2024               IT   35625   East   81389   AP    0-30 days\n",
      "3   Apr-2024               IT   44774  North  142849   AR   31-60 days\n",
      "4   May-2024       Operations   41910   West   90979   AR    0-30 days\n",
      "5   Jun-2024        Marketing   34698  North  143233   AR   61-90 days\n",
      "6   Jul-2024        Marketing   25269  South   52224   AR   31-60 days\n",
      "7   Aug-2024        Marketing   29015   East  119591   AP   31-60 days\n",
      "8   Sep-2024         Research   19760  South   81161   AR   61-90 days\n",
      "9   Oct-2024       Operations   28521  North   67417   AP   61-90 days\n",
      "10  Nov-2024       Operations   10576   East  111494   AP     90+ days\n",
      "11  Dec-2024         Research   42812  South  148961   AR     90+ days\n"
     ]
    }
   ],
   "source": [
    "import pandas as pd\n",
    "import random\n",
    "\n",
    "# Create a sample dataset\n",
    "data = {\n",
    "    \"Month\": pd.date_range(start=\"2024-01-01\", periods=12, freq=\"M\").strftime(\"%b-%Y\"),\n",
    "    \"Expense Category\": random.choices(\n",
    "        [\"Operations\", \"Marketing\", \"Research\", \"IT\"], k=12\n",
    "    ),\n",
    "    \"Amount\": [random.randint(10000, 50000) for _ in range(12)],\n",
    "    \"Region\": random.choices([\"North\", \"South\", \"East\", \"West\"], k=12),\n",
    "    \"Sales\": [random.randint(50000, 150000) for _ in range(12)],\n",
    "    \"Type\": random.choices([\"AP\", \"AR\"], k=12),\n",
    "    \"Aging Bucket\": random.choices(\n",
    "        [\"0-30 days\", \"31-60 days\", \"61-90 days\", \"90+ days\"], k=12\n",
    "    ),\n",
    "}\n",
    "\n",
    "# Convert to a DataFrame\n",
    "df = pd.DataFrame(data)\n",
    "\n",
    "# Save to an Excel file (optional, for testing)\n",
    "df.to_excel(\"mock_data.xlsx\", index=False)\n",
    "\n",
    "# Display the DataFrame\n",
    "print(df)"
   ]
  },
  {
   "cell_type": "code",
   "execution_count": 2,
   "id": "8d163c15",
   "metadata": {},
   "outputs": [
    {
     "data": {
      "text/html": [
       "<div>\n",
       "<style scoped>\n",
       "    .dataframe tbody tr th:only-of-type {\n",
       "        vertical-align: middle;\n",
       "    }\n",
       "\n",
       "    .dataframe tbody tr th {\n",
       "        vertical-align: top;\n",
       "    }\n",
       "\n",
       "    .dataframe thead th {\n",
       "        text-align: right;\n",
       "    }\n",
       "</style>\n",
       "<table border=\"1\" class=\"dataframe\">\n",
       "  <thead>\n",
       "    <tr style=\"text-align: right;\">\n",
       "      <th></th>\n",
       "      <th>Amount</th>\n",
       "      <th>Sales</th>\n",
       "    </tr>\n",
       "  </thead>\n",
       "  <tbody>\n",
       "    <tr>\n",
       "      <th>count</th>\n",
       "      <td>12.000000</td>\n",
       "      <td>12.000000</td>\n",
       "    </tr>\n",
       "    <tr>\n",
       "      <th>mean</th>\n",
       "      <td>31357.416667</td>\n",
       "      <td>107412.583333</td>\n",
       "    </tr>\n",
       "    <tr>\n",
       "      <th>std</th>\n",
       "      <td>9999.266123</td>\n",
       "      <td>32569.765993</td>\n",
       "    </tr>\n",
       "    <tr>\n",
       "      <th>min</th>\n",
       "      <td>10576.000000</td>\n",
       "      <td>52224.000000</td>\n",
       "    </tr>\n",
       "    <tr>\n",
       "      <th>25%</th>\n",
       "      <td>27125.250000</td>\n",
       "      <td>81332.000000</td>\n",
       "    </tr>\n",
       "    <tr>\n",
       "      <th>50%</th>\n",
       "      <td>31856.500000</td>\n",
       "      <td>111543.500000</td>\n",
       "    </tr>\n",
       "    <tr>\n",
       "      <th>75%</th>\n",
       "      <td>37196.250000</td>\n",
       "      <td>139257.250000</td>\n",
       "    </tr>\n",
       "    <tr>\n",
       "      <th>max</th>\n",
       "      <td>44774.000000</td>\n",
       "      <td>148961.000000</td>\n",
       "    </tr>\n",
       "  </tbody>\n",
       "</table>\n",
       "</div>"
      ],
      "text/plain": [
       "             Amount          Sales\n",
       "count     12.000000      12.000000\n",
       "mean   31357.416667  107412.583333\n",
       "std     9999.266123   32569.765993\n",
       "min    10576.000000   52224.000000\n",
       "25%    27125.250000   81332.000000\n",
       "50%    31856.500000  111543.500000\n",
       "75%    37196.250000  139257.250000\n",
       "max    44774.000000  148961.000000"
      ]
     },
     "execution_count": 2,
     "metadata": {},
     "output_type": "execute_result"
    }
   ],
   "source": [
    "df.describe()"
   ]
  },
  {
   "cell_type": "code",
   "execution_count": 3,
   "id": "8919b1b2",
   "metadata": {},
   "outputs": [
    {
     "name": "stdout",
     "output_type": "stream",
     "text": [
      "<class 'pandas.core.frame.DataFrame'>\n",
      "RangeIndex: 12 entries, 0 to 11\n",
      "Data columns (total 7 columns):\n",
      " #   Column            Non-Null Count  Dtype \n",
      "---  ------            --------------  ----- \n",
      " 0   Month             12 non-null     object\n",
      " 1   Expense Category  12 non-null     object\n",
      " 2   Amount            12 non-null     int64 \n",
      " 3   Region            12 non-null     object\n",
      " 4   Sales             12 non-null     int64 \n",
      " 5   Type              12 non-null     object\n",
      " 6   Aging Bucket      12 non-null     object\n",
      "dtypes: int64(2), object(5)\n",
      "memory usage: 804.0+ bytes\n"
     ]
    }
   ],
   "source": [
    "df.info()"
   ]
  },
  {
   "cell_type": "code",
   "execution_count": null,
   "id": "f452b727",
   "metadata": {},
   "outputs": [],
   "source": []
  }
 ],
 "metadata": {
  "kernelspec": {
   "display_name": "Python 3 (ipykernel)",
   "language": "python",
   "name": "python3"
  },
  "language_info": {
   "codemirror_mode": {
    "name": "ipython",
    "version": 3
   },
   "file_extension": ".py",
   "mimetype": "text/x-python",
   "name": "python",
   "nbconvert_exporter": "python",
   "pygments_lexer": "ipython3",
   "version": "3.11.4"
  }
 },
 "nbformat": 4,
 "nbformat_minor": 5
}
